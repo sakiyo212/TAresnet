{
 "cells": [
  {
   "cell_type": "markdown",
   "metadata": {},
   "source": [
    "## Import the library"
   ]
  },
  {
   "cell_type": "code",
   "execution_count": 54,
   "metadata": {},
   "outputs": [],
   "source": [
    "import torch\n",
    "from torch.utils.data import Dataset\n",
    "import torchvision.transforms as transforms\n",
    "import matplotlib.pyplot as plt\n",
    "from sklearn.model_selection import train_test_split\n",
    "from torch.utils.data import DataLoader\n",
    "import torch.optim as optim\n",
    "from torch.optim.lr_scheduler import StepLR"
   ]
  },
  {
   "cell_type": "code",
   "execution_count": 55,
   "metadata": {},
   "outputs": [],
   "source": [
    "import os\n",
    "import pandas as pd\n",
    "from PIL import Image"
   ]
  },
  {
   "cell_type": "markdown",
   "metadata": {},
   "source": [
    "# Dataloading for Diabetic Retinopathy Image Classification"
   ]
  },
  {
   "cell_type": "code",
   "execution_count": 56,
   "metadata": {},
   "outputs": [],
   "source": [
    "path = \"Dataset\\FullDataset\\a. DRAC2022_ Diabetic Retinopathy Grading_Training Labels.csv\"\n",
    "df = pd.read_csv(path)"
   ]
  },
  {
   "cell_type": "code",
   "execution_count": 57,
   "metadata": {},
   "outputs": [],
   "source": [
    "class DiabeticRetinopathyDataset(Dataset):\n",
    "    def __init__(self, label_df, img_dir, transform=None):\n",
    "        self.img_labels = label_df\n",
    "        self.img_dir = img_dir\n",
    "        self.transform = transform\n",
    "    \n",
    "    def __len__(self):\n",
    "        return len(self.img_labels)\n",
    "    \n",
    "    def __getitem__(self, idx):\n",
    "        img_path = os.path.join(self.img_dir, self.img_labels.iloc[idx, 0])\n",
    "        image = Image.open(img_path)\n",
    "        label = self.img_labels.iloc[idx, 1]\n",
    "        if self.transform:\n",
    "            image = self.transform(image)\n",
    "        return image, label"
   ]
  },
  {
   "cell_type": "code",
   "execution_count": 58,
   "metadata": {},
   "outputs": [],
   "source": [
    "train_transform = transforms.Compose([\n",
    "    transforms.Grayscale(num_output_channels=3),\n",
    "    transforms.Resize((224, 224)),\n",
    "    transforms.RandomRotation(30),              # Random rotation within 30 degrees\n",
    "    transforms.RandomHorizontalFlip(),         # Random horizontal flip\n",
    "    transforms.RandomVerticalFlip(),           # Random vertical flip\n",
    "    transforms.ColorJitter(brightness=0.2, contrast=0.2),\n",
    "    transforms.ToTensor(),\n",
    "    transforms.Normalize(mean=[0.5, 0.5, 0.5], std=[0.5, 0.5, 0.5])  # Assuming single-channel grayscale images\n",
    "])\n",
    "\n",
    "val_transform = transforms.Compose([\n",
    "    transforms.Grayscale(num_output_channels=3),\n",
    "    transforms.Resize((224, 224)),\n",
    "    transforms.ToTensor(),\n",
    "    transforms.Normalize(mean=[0.5, 0.5, 0.5], std=[0.5, 0.5, 0.5])  # Assuming single-channel grayscale images\n",
    "])"
   ]
  },
  {
   "cell_type": "markdown",
   "metadata": {},
   "source": [
    "## Load the dataset into the dataloader"
   ]
  },
  {
   "cell_type": "code",
   "execution_count": 59,
   "metadata": {},
   "outputs": [],
   "source": [
    "# Split the data into training and validation sets while maintaining class balance\n",
    "train_data = []\n",
    "val_data = []\n",
    "for class_label in df['DR grade'].unique():\n",
    "    class_data = df[df['DR grade'] == class_label]\n",
    "    train_group, val_group = train_test_split(class_data, test_size=0.2, random_state=101)\n",
    "    train_data.append(train_group)\n",
    "    val_data.append(val_group)\n",
    "\n",
    "train_df = pd.concat(train_data)\n",
    "val_df = pd.concat(val_data)"
   ]
  },
  {
   "cell_type": "code",
   "execution_count": 60,
   "metadata": {},
   "outputs": [
    {
     "name": "stdout",
     "output_type": "stream",
     "text": [
      "Class 0: 263 images\n",
      "Class 1: 169 images\n",
      "Class 2: 56 images\n"
     ]
    }
   ],
   "source": [
    "# Count the number of images per class\n",
    "class_counts = train_df['DR grade'].value_counts()\n",
    "\n",
    "# Print the counts for each class\n",
    "for class_label, count in class_counts.items():\n",
    "    print(f\"Class {class_label}: {count} images\")"
   ]
  },
  {
   "cell_type": "code",
   "execution_count": 61,
   "metadata": {},
   "outputs": [
    {
     "name": "stdout",
     "output_type": "stream",
     "text": [
      "Class 0: 66 images\n",
      "Class 1: 43 images\n",
      "Class 2: 14 images\n"
     ]
    }
   ],
   "source": [
    "# Count the number of images per class\n",
    "class_counts = val_df['DR grade'].value_counts()\n",
    "\n",
    "# Print the counts for each class\n",
    "for class_label, count in class_counts.items():\n",
    "    print(f\"Class {class_label}: {count} images\")"
   ]
  },
  {
   "cell_type": "markdown",
   "metadata": {},
   "source": [
    "### Add the class weight to train the model"
   ]
  },
  {
   "cell_type": "code",
   "execution_count": 62,
   "metadata": {},
   "outputs": [],
   "source": [
    "# Calculate class weights\n",
    "from sklearn.utils.class_weight import compute_class_weight\n",
    "import numpy as np\n",
    "\n",
    "y = val_df['DR grade']\n",
    "class_weights = compute_class_weight('balanced', classes=np.unique(y), y=y)\n",
    "class_weights = torch.tensor(class_weights).type(torch.float32)"
   ]
  },
  {
   "cell_type": "code",
   "execution_count": 63,
   "metadata": {},
   "outputs": [
    {
     "data": {
      "text/plain": [
       "tensor([0.6212, 0.9535, 2.9286])"
      ]
     },
     "execution_count": 63,
     "metadata": {},
     "output_type": "execute_result"
    }
   ],
   "source": [
    "class_weights"
   ]
  },
  {
   "cell_type": "code",
   "execution_count": 64,
   "metadata": {},
   "outputs": [],
   "source": [
    "img_dir = \"Dataset\\FullDataset\\\\a. Training Set\"\n",
    "training_data = DiabeticRetinopathyDataset(train_df, img_dir, train_transform)\n",
    "validation_data = DiabeticRetinopathyDataset(val_df, img_dir, val_transform)\n",
    "\n",
    "train_dataloader = DataLoader(training_data, batch_size=32, shuffle=True)\n",
    "val_dataloader = DataLoader(validation_data, batch_size=32, shuffle=False)"
   ]
  },
  {
   "cell_type": "markdown",
   "metadata": {},
   "source": [
    "# Modifiying the ResNet Model"
   ]
  },
  {
   "cell_type": "code",
   "execution_count": 79,
   "metadata": {},
   "outputs": [],
   "source": [
    "import torch.nn as nn\n",
    "from torchvision.models import (\n",
    "    resnet18,\n",
    "    resnet34,\n",
    "    resnet50,\n",
    "    resnet101,\n",
    "    resnet152,\n",
    "    ResNet18_Weights,\n",
    "    ResNet34_Weights,\n",
    "    ResNet50_Weights,\n",
    "    ResNet101_Weights,\n",
    "    ResNet152_Weights\n",
    ")\n",
    "\n",
    "class DiabeticRetinopathyModel(nn.Module):\n",
    "    def __init__(self, num_classes=3):\n",
    "        super(DiabeticRetinopathyModel, self).__init__()\n",
    "        # Load pre-trained ResNet model\n",
    "        self.resnet = resnet152(weights=ResNet152_Weights.IMAGENET1K_V2)\n",
    "\n",
    "        # Modify the last fully connected layer to have num_classes output classes\n",
    "        num_ftrs = self.resnet.fc.in_features\n",
    "        self.resnet.fc = nn.Linear(num_ftrs, num_classes)\n",
    "\n",
    "        # Freeze all layers except the last convolutional layer\n",
    "        for name, param in self.resnet.named_parameters():\n",
    "            if 'layer4' not in name:  # Assuming 'layer4' is the last convolutional layer\n",
    "                param.requires_grad = False\n",
    "        self.resnet.fc.requires_grad = True  # Ensure the classifier's parameters are trainable\n",
    "\n",
    "    def forward(self, x):\n",
    "        return self.resnet(x)\n",
    "\n",
    "# Example usage:\n",
    "# Instantiate the model\n",
    "model = DiabeticRetinopathyModel(num_classes=3)\n"
   ]
  },
  {
   "cell_type": "markdown",
   "metadata": {},
   "source": [
    "## Training the dataset"
   ]
  },
  {
   "cell_type": "code",
   "execution_count": 80,
   "metadata": {},
   "outputs": [
    {
     "name": "stdout",
     "output_type": "stream",
     "text": [
      "Using cuda device\n"
     ]
    }
   ],
   "source": [
    "device = (\n",
    "    \"cuda\"\n",
    "    if torch.cuda.is_available()\n",
    "    else \"mps\"\n",
    "    if torch.backends.mps.is_available()\n",
    "    else \"cpu\"\n",
    ")\n",
    "print(f\"Using {device} device\")"
   ]
  },
  {
   "cell_type": "code",
   "execution_count": 81,
   "metadata": {},
   "outputs": [
    {
     "name": "stdout",
     "output_type": "stream",
     "text": [
      "Epoch 1/100: Train Loss: 0.9661, Train Acc: 0.5225, Val Acc:0.5691\n",
      "Epoch 2/100: Train Loss: 0.7758, Train Acc: 0.6660, Val Acc:0.3740\n",
      "Epoch 3/100: Train Loss: 0.6671, Train Acc: 0.7459, Val Acc:0.5366\n",
      "Epoch 4/100: Train Loss: 0.6360, Train Acc: 0.7172, Val Acc:0.6911\n",
      "Epoch 5/100: Train Loss: 0.5768, Train Acc: 0.7910, Val Acc:0.6504\n",
      "Epoch 6/100: Train Loss: 0.6484, Train Acc: 0.7766, Val Acc:0.7317\n",
      "Epoch 7/100: Train Loss: 0.4959, Train Acc: 0.8217, Val Acc:0.7480\n",
      "Epoch 8/100: Train Loss: 0.4705, Train Acc: 0.8094, Val Acc:0.7805\n",
      "Epoch 9/100: Train Loss: 0.4714, Train Acc: 0.8094, Val Acc:0.7967\n",
      "Epoch 10/100: Train Loss: 0.4256, Train Acc: 0.8115, Val Acc:0.7561\n",
      "Epoch 11/100: Train Loss: 0.3975, Train Acc: 0.8463, Val Acc:0.7480\n",
      "Epoch 12/100: Train Loss: 0.4020, Train Acc: 0.8320, Val Acc:0.7561\n",
      "Epoch 13/100: Train Loss: 0.3599, Train Acc: 0.8586, Val Acc:0.7805\n",
      "Epoch 14/100: Train Loss: 0.3622, Train Acc: 0.8545, Val Acc:0.7642\n",
      "Epoch 15/100: Train Loss: 0.3548, Train Acc: 0.8627, Val Acc:0.7886\n",
      "Epoch 16/100: Train Loss: 0.3814, Train Acc: 0.8586, Val Acc:0.7724\n",
      "Epoch 17/100: Train Loss: 0.3803, Train Acc: 0.8566, Val Acc:0.7805\n",
      "Epoch 18/100: Train Loss: 0.3453, Train Acc: 0.8668, Val Acc:0.7886\n",
      "Epoch 19/100: Train Loss: 0.3312, Train Acc: 0.8934, Val Acc:0.8049\n",
      "Epoch 20/100: Train Loss: 0.3338, Train Acc: 0.8709, Val Acc:0.7886\n",
      "Epoch 21/100: Train Loss: 0.3157, Train Acc: 0.8750, Val Acc:0.7805\n",
      "Epoch 22/100: Train Loss: 0.3310, Train Acc: 0.8832, Val Acc:0.7642\n",
      "Epoch 23/100: Train Loss: 0.2945, Train Acc: 0.8893, Val Acc:0.7967\n",
      "Epoch 24/100: Train Loss: 0.3406, Train Acc: 0.8730, Val Acc:0.8049\n",
      "Epoch 25/100: Train Loss: 0.3422, Train Acc: 0.8730, Val Acc:0.7967\n",
      "Epoch 26/100: Train Loss: 0.3269, Train Acc: 0.8770, Val Acc:0.7886\n",
      "Epoch 27/100: Train Loss: 0.3214, Train Acc: 0.8525, Val Acc:0.7642\n",
      "Epoch 28/100: Train Loss: 0.3300, Train Acc: 0.8668, Val Acc:0.7886\n",
      "Epoch 29/100: Train Loss: 0.3352, Train Acc: 0.8627, Val Acc:0.7805\n",
      "Epoch 30/100: Train Loss: 0.3198, Train Acc: 0.8893, Val Acc:0.7967\n",
      "Epoch 31/100: Train Loss: 0.3243, Train Acc: 0.8852, Val Acc:0.8130\n",
      "Epoch 32/100: Train Loss: 0.3177, Train Acc: 0.8852, Val Acc:0.8049\n",
      "Epoch 33/100: Train Loss: 0.3045, Train Acc: 0.8770, Val Acc:0.7805\n",
      "Epoch 34/100: Train Loss: 0.3346, Train Acc: 0.8709, Val Acc:0.7967\n",
      "Epoch 35/100: Train Loss: 0.3077, Train Acc: 0.8770, Val Acc:0.7886\n",
      "Epoch 36/100: Train Loss: 0.3671, Train Acc: 0.8545, Val Acc:0.8049\n",
      "Epoch 37/100: Train Loss: 0.3087, Train Acc: 0.8730, Val Acc:0.7967\n",
      "Epoch 38/100: Train Loss: 0.3729, Train Acc: 0.8689, Val Acc:0.7805\n",
      "Epoch 39/100: Train Loss: 0.3606, Train Acc: 0.8709, Val Acc:0.7805\n",
      "Epoch 40/100: Train Loss: 0.3420, Train Acc: 0.8648, Val Acc:0.7805\n",
      "Epoch 41/100: Train Loss: 0.3198, Train Acc: 0.8852, Val Acc:0.7724\n",
      "Epoch 42/100: Train Loss: 0.3454, Train Acc: 0.8873, Val Acc:0.7967\n",
      "Epoch 43/100: Train Loss: 0.3096, Train Acc: 0.8873, Val Acc:0.7886\n",
      "Epoch 44/100: Train Loss: 0.2758, Train Acc: 0.8934, Val Acc:0.7886\n",
      "Epoch 45/100: Train Loss: 0.3028, Train Acc: 0.8811, Val Acc:0.7967\n",
      "Epoch 46/100: Train Loss: 0.3931, Train Acc: 0.8627, Val Acc:0.7967\n",
      "Epoch 47/100: Train Loss: 0.2788, Train Acc: 0.8873, Val Acc:0.7886\n",
      "Epoch 48/100: Train Loss: 0.2975, Train Acc: 0.8770, Val Acc:0.8049\n",
      "Epoch 49/100: Train Loss: 0.3290, Train Acc: 0.8566, Val Acc:0.7967\n",
      "Epoch 50/100: Train Loss: 0.2930, Train Acc: 0.8770, Val Acc:0.7967\n",
      "Epoch 51/100: Train Loss: 0.3527, Train Acc: 0.8627, Val Acc:0.7886\n",
      "Epoch 52/100: Train Loss: 0.3581, Train Acc: 0.8648, Val Acc:0.7967\n",
      "Epoch 53/100: Train Loss: 0.3483, Train Acc: 0.8586, Val Acc:0.7886\n",
      "Epoch 54/100: Train Loss: 0.3201, Train Acc: 0.8709, Val Acc:0.7967\n",
      "Epoch 55/100: Train Loss: 0.3456, Train Acc: 0.8750, Val Acc:0.8049\n",
      "Epoch 56/100: Train Loss: 0.3688, Train Acc: 0.8852, Val Acc:0.7967\n",
      "Epoch 57/100: Train Loss: 0.3211, Train Acc: 0.8811, Val Acc:0.7967\n",
      "Epoch 58/100: Train Loss: 0.3033, Train Acc: 0.8852, Val Acc:0.7805\n",
      "Epoch 59/100: Train Loss: 0.3149, Train Acc: 0.8852, Val Acc:0.7967\n",
      "Epoch 60/100: Train Loss: 0.3134, Train Acc: 0.8689, Val Acc:0.7886\n",
      "Epoch 61/100: Train Loss: 0.3797, Train Acc: 0.8750, Val Acc:0.7724\n",
      "Epoch 62/100: Train Loss: 0.3303, Train Acc: 0.8730, Val Acc:0.7724\n",
      "Epoch 63/100: Train Loss: 0.3410, Train Acc: 0.8709, Val Acc:0.7886\n",
      "Epoch 64/100: Train Loss: 0.3715, Train Acc: 0.8422, Val Acc:0.7886\n",
      "Epoch 65/100: Train Loss: 0.3209, Train Acc: 0.8730, Val Acc:0.7967\n",
      "Epoch 66/100: Train Loss: 0.3094, Train Acc: 0.8975, Val Acc:0.8049\n",
      "Epoch 67/100: Train Loss: 0.3012, Train Acc: 0.8750, Val Acc:0.7967\n",
      "Epoch 68/100: Train Loss: 0.3191, Train Acc: 0.8750, Val Acc:0.7886\n",
      "Epoch 69/100: Train Loss: 0.3757, Train Acc: 0.8320, Val Acc:0.7886\n",
      "Epoch 70/100: Train Loss: 0.3438, Train Acc: 0.8648, Val Acc:0.7886\n",
      "Epoch 71/100: Train Loss: 0.3107, Train Acc: 0.8770, Val Acc:0.7967\n",
      "Epoch 72/100: Train Loss: 0.3151, Train Acc: 0.8873, Val Acc:0.7886\n",
      "Epoch 73/100: Train Loss: 0.3090, Train Acc: 0.8811, Val Acc:0.7967\n",
      "Epoch 74/100: Train Loss: 0.3179, Train Acc: 0.8689, Val Acc:0.8049\n",
      "Epoch 75/100: Train Loss: 0.3827, Train Acc: 0.8689, Val Acc:0.7967\n",
      "Epoch 76/100: Train Loss: 0.3264, Train Acc: 0.8730, Val Acc:0.8049\n",
      "Epoch 77/100: Train Loss: 0.2893, Train Acc: 0.8811, Val Acc:0.7967\n",
      "Epoch 78/100: Train Loss: 0.3282, Train Acc: 0.8689, Val Acc:0.8049\n",
      "Epoch 79/100: Train Loss: 0.3002, Train Acc: 0.8709, Val Acc:0.7886\n",
      "Epoch 80/100: Train Loss: 0.3369, Train Acc: 0.8668, Val Acc:0.7886\n",
      "Epoch 81/100: Train Loss: 0.3027, Train Acc: 0.8791, Val Acc:0.7886\n",
      "Epoch 82/100: Train Loss: 0.3429, Train Acc: 0.8791, Val Acc:0.8049\n",
      "Epoch 83/100: Train Loss: 0.3246, Train Acc: 0.8627, Val Acc:0.7886\n",
      "Epoch 84/100: Train Loss: 0.3238, Train Acc: 0.9016, Val Acc:0.7967\n",
      "Epoch 85/100: Train Loss: 0.2874, Train Acc: 0.8750, Val Acc:0.7886\n",
      "Epoch 86/100: Train Loss: 0.3181, Train Acc: 0.8893, Val Acc:0.8049\n",
      "Epoch 87/100: Train Loss: 0.3145, Train Acc: 0.8627, Val Acc:0.7967\n",
      "Epoch 88/100: Train Loss: 0.3097, Train Acc: 0.8791, Val Acc:0.7805\n",
      "Epoch 89/100: Train Loss: 0.3581, Train Acc: 0.8648, Val Acc:0.7886\n",
      "Epoch 90/100: Train Loss: 0.3170, Train Acc: 0.8811, Val Acc:0.7886\n",
      "Epoch 91/100: Train Loss: 0.3191, Train Acc: 0.8750, Val Acc:0.8049\n",
      "Epoch 92/100: Train Loss: 0.3106, Train Acc: 0.8689, Val Acc:0.7967\n",
      "Epoch 93/100: Train Loss: 0.2982, Train Acc: 0.8975, Val Acc:0.7886\n",
      "Epoch 94/100: Train Loss: 0.3187, Train Acc: 0.8873, Val Acc:0.7967\n",
      "Epoch 95/100: Train Loss: 0.3588, Train Acc: 0.8504, Val Acc:0.7805\n",
      "Epoch 96/100: Train Loss: 0.3536, Train Acc: 0.8750, Val Acc:0.7886\n",
      "Epoch 97/100: Train Loss: 0.2958, Train Acc: 0.8811, Val Acc:0.7967\n",
      "Epoch 98/100: Train Loss: 0.3052, Train Acc: 0.8996, Val Acc:0.8049\n",
      "Epoch 99/100: Train Loss: 0.3078, Train Acc: 0.8770, Val Acc:0.7967\n",
      "Epoch 100/100: Train Loss: 0.3318, Train Acc: 0.8586, Val Acc:0.7967\n"
     ]
    }
   ],
   "source": [
    "criterion = nn.CrossEntropyLoss()#weight=class_weights.to(device))\n",
    "\n",
    "# Define your optimizer\n",
    "optimizer = optim.SGD(model.parameters(), lr=0.1, momentum=0.9)\n",
    "\n",
    "# Define your scheduler\n",
    "scheduler = StepLR(optimizer, step_size=10, gamma=0.1)  # Decrease LR by a factor of 0.1 every 10 epochs\n",
    "\n",
    "# Define lists to store losses and accuracies\n",
    "train_losses = []\n",
    "train_accuracies = []\n",
    "val_accuracies = []\n",
    "current_accuracy = 0\n",
    "train_accuracy = 0\n",
    "\n",
    "# Training loop\n",
    "num_epochs = 100\n",
    "for epoch in range(num_epochs):\n",
    "    model.to(device)\n",
    "    model.train()\n",
    "    running_loss = 0.0\n",
    "    correct = 0\n",
    "    total = 0\n",
    "    \n",
    "    for images, labels in train_dataloader:\n",
    "        images, labels = images.to(device), labels.to(device)\n",
    "        \n",
    "        optimizer.zero_grad()\n",
    "        outputs = model(images)\n",
    "        loss = criterion(outputs, labels)\n",
    "        loss.backward()\n",
    "        optimizer.step()\n",
    "        \n",
    "        running_loss += loss.item()\n",
    "        _, predicted = torch.max(outputs, 1)\n",
    "        total += labels.size(0)\n",
    "        correct += (predicted == labels).sum().item()\n",
    "    \n",
    "    epoch_loss = running_loss / len(train_dataloader)\n",
    "    epoch_acc = correct / total\n",
    "\n",
    "    # Save losses and accuracies for plotting\n",
    "    train_losses.append(epoch_loss)\n",
    "    train_accuracies.append(epoch_acc)\n",
    "\n",
    "    #validation loop\n",
    "    model.eval()  # Set the model to evaluation mode\n",
    "\n",
    "    val_loss = 0.0\n",
    "    val_correct = 0\n",
    "    val_total = 0\n",
    "\n",
    "    with torch.no_grad():\n",
    "        for images, labels in val_dataloader:\n",
    "            images, labels = images.to(device), labels.to(device)\n",
    "\n",
    "            # Forward pass\n",
    "            outputs = model(images)\n",
    "            loss = criterion(outputs, labels)\n",
    "\n",
    "            # Update statistics\n",
    "            val_loss += loss.item()\n",
    "            _, predicted = torch.max(outputs, 1)\n",
    "            val_total += labels.size(0)\n",
    "            val_correct += (predicted == labels).sum().item()\n",
    "\n",
    "    val_epoch_acc = val_correct / val_total\n",
    "    # Save accuracies for plotting\n",
    "    val_accuracies.append(val_epoch_acc)\n",
    "\n",
    "    if val_epoch_acc > current_accuracy:\n",
    "        current_accuracy = val_epoch_acc\n",
    "        torch.save(model, 'def_resnet152val.pth')\n",
    "    if epoch_acc > train_accuracy:\n",
    "        train_accuracy = epoch_acc\n",
    "        torch.save(model, 'def_resnet152train.pth')\n",
    "    \n",
    "    \n",
    "    # Step the scheduler\n",
    "    scheduler.step()\n",
    "    \n",
    "    print(f\"Epoch {epoch+1}/{num_epochs}: Train Loss: {epoch_loss:.4f}, Train Acc: {epoch_acc:.4f}, Val Acc:{val_epoch_acc:.4f}\")\n"
   ]
  },
  {
   "cell_type": "code",
   "execution_count": 82,
   "metadata": {},
   "outputs": [
    {
     "data": {
      "image/png": "[encoded data removed]",
      "text/plain": [
       "<Figure size 1000x500 with 2 Axes>"
      ]
     },
     "metadata": {},
     "output_type": "display_data"
    }
   ],
   "source": [
    "# Plot loss and accuracy graphs\n",
    "model_name = \"ResNet152 Default\"\n",
    "plt.figure(figsize=(10, 5))\n",
    "\n",
    "plt.subplot(1, 2, 1)\n",
    "plt.plot(train_losses, label='Train Loss')\n",
    "plt.xlabel('Epoch')\n",
    "plt.ylabel('Loss')\n",
    "plt.title(f'Training Loss ({model_name})')  # Include model name in the title\n",
    "plt.legend()\n",
    "\n",
    "plt.subplot(1, 2, 2)\n",
    "plt.plot(train_accuracies, label='Train Accuracy')\n",
    "plt.plot(val_accuracies, label = 'Validation accuracy')\n",
    "plt.ylim(0.1, 1)\n",
    "plt.xlabel('Epoch')\n",
    "plt.ylabel('Accuracy')\n",
    "plt.title(f'Training Accuracy ({model_name})')  # Include model name in the title\n",
    "plt.legend()\n",
    "\n",
    "\n",
    "plt.tight_layout()\n",
    "plt.show()"
   ]
  },
  {
   "cell_type": "markdown",
   "metadata": {},
   "source": [
    "## Validate the model"
   ]
  },
  {
   "cell_type": "code",
   "execution_count": 88,
   "metadata": {},
   "outputs": [],
   "source": [
    "import torch\n",
    "from sklearn.metrics import precision_score, recall_score, confusion_matrix\n",
    "\n",
    "model = torch.load(\"def_resnet152val.pth\")\n",
    "model.eval()  # Set the model to evaluation mode\n",
    "\n",
    "val_loss = 0.0\n",
    "val_correct = 0\n",
    "val_total = 0\n",
    "\n",
    "# Initialize variables for precision, recall, and confusion matrix\n",
    "y_true = []\n",
    "y_pred = []\n",
    "\n",
    "with torch.no_grad():\n",
    "    for images, labels in val_dataloader:\n",
    "        images, labels = images.to(device), labels.to(device)\n",
    "        \n",
    "        # Forward pass\n",
    "        outputs = model(images)\n",
    "        loss = criterion(outputs, labels)\n",
    "        \n",
    "        # Update statistics\n",
    "        val_loss += loss.item()\n",
    "        _, predicted = torch.max(outputs, 1)\n",
    "        val_total += labels.size(0)\n",
    "        val_correct += (predicted == labels).sum().item()\n",
    "\n",
    "        # Collect true and predicted labels for calculating metrics\n",
    "        y_true.extend(labels.cpu().numpy())\n",
    "        y_pred.extend(predicted.cpu().numpy())"
   ]
  },
  {
   "cell_type": "code",
   "execution_count": 89,
   "metadata": {},
   "outputs": [
    {
     "name": "stdout",
     "output_type": "stream",
     "text": [
      "Validation Loss: 0.5725, Validation Accuracy: 0.8130\n",
      "Precision: 0.8170, Recall: 0.8130\n",
      "Confusion Matrix:\n",
      "[[60  6  0]\n",
      " [ 9 33  1]\n",
      " [ 0  7  7]]\n"
     ]
    }
   ],
   "source": [
    "# Calculate average validation loss and accuracy\n",
    "val_epoch_loss = val_loss / len(val_dataloader)\n",
    "val_epoch_acc = val_correct / val_total\n",
    "\n",
    "# Calculate accuracy, precision, recall, and confusion matrix\n",
    "precision = precision_score(y_true, y_pred, average='weighted')\n",
    "recall = recall_score(y_true, y_pred, average='weighted')\n",
    "conf_matrix = confusion_matrix(y_true, y_pred)\n",
    "\n",
    "print(f\"Validation Loss: {val_epoch_loss:.4f}, Validation Accuracy: {val_epoch_acc:.4f}\")\n",
    "print(f\"Precision: {precision:.4f}, Recall: {recall:.4f}\")\n",
    "print(\"Confusion Matrix:\")\n",
    "print(conf_matrix)"
   ]
  },
  {
   "cell_type": "code",
   "execution_count": 90,
   "metadata": {},
   "outputs": [
    {
     "data": {
      "image/png": "[encoded data removed]",
      "text/plain": [
       "<Figure size 800x600 with 2 Axes>"
      ]
     },
     "metadata": {},
     "output_type": "display_data"
    }
   ],
   "source": [
    "import seaborn as sns\n",
    "\n",
    "# Plot confusion matrix\n",
    "plt.figure(figsize=(8, 6))\n",
    "sns.heatmap(conf_matrix, annot=True, fmt='d', cmap='Blues', \n",
    "            xticklabels=['non-DR', 'NPDR', 'PDR'], \n",
    "            yticklabels=['non-DR', 'NPDR', 'PDR'])\n",
    "plt.xlabel('Predicted labels')\n",
    "plt.ylabel('True labels')\n",
    "plt.title(f'Confusion Matrix ({model_name})')\n",
    "plt.show()"
   ]
  },
  {
   "cell_type": "markdown",
   "metadata": {},
   "source": [
    "## Inferencing the model with the test datast"
   ]
  },
  {
   "cell_type": "code",
   "execution_count": 91,
   "metadata": {},
   "outputs": [],
   "source": [
    "import os\n",
    "import torch\n",
    "from torch.utils.data import DataLoader\n",
    "from torchvision import transforms\n",
    "from PIL import Image\n",
    "\n",
    "\n",
    "test_transform = transforms.Compose([\n",
    "    transforms.Grayscale(num_output_channels=3),\n",
    "    transforms.Resize((224, 224)),\n",
    "    transforms.ToTensor(),\n",
    "    transforms.Normalize(mean=[0.5, 0.5, 0.5], std=[0.5, 0.5, 0.5])  # Assuming single-channel grayscale images\n",
    "])\n",
    "\n",
    "class DiabeticRetinopathyTestDataset(Dataset):\n",
    "    def __init__(self, img_dir, transform=None):\n",
    "        self.img_dir = img_dir\n",
    "        self.transform = transform\n",
    "        self.img_list = os.listdir(img_dir)\n",
    "    \n",
    "    def __len__(self):\n",
    "        return len(self.img_list)\n",
    "    \n",
    "    def __getitem__(self, idx):\n",
    "        img_filename = self.img_list[idx]\n",
    "        img_path = os.path.join(self.img_dir, img_filename)\n",
    "        image = Image.open(img_path)\n",
    "        if self.transform:\n",
    "            image = self.transform(image)\n",
    "        return image, img_filename  # Returning image and filename\n",
    "    \n",
    "img_dir = \"Dataset\\FullDataset\\\\b. Testing Set\"\n",
    "test_data = DiabeticRetinopathyTestDataset(img_dir, train_transform)\n",
    "test_dataloader = DataLoader(test_data, batch_size=1, shuffle=False)\n",
    "\n",
    "model = torch.load(\"def_resnet152val.pth\")\n",
    "model.eval()  # Set the model to evaluation mode\n",
    "\n",
    "results = []\n",
    "for images, img_filenames in test_dataloader:\n",
    "    images = images.to(device)\n",
    "    \n",
    "    # Forward pass\n",
    "    outputs = model(images)\n",
    "    _, predicted = torch.max(outputs, 1)\n",
    "    probabilities = torch.nn.functional.softmax(outputs, dim=1)\n",
    "    probabilities = probabilities.cpu().detach().numpy().squeeze()\n",
    "    \n",
    "    img_filename = img_filenames[0]  # Extract the filename from the tuple\n",
    "    results.append([img_filename, predicted.item()] + probabilities.tolist())"
   ]
  },
  {
   "cell_type": "code",
   "execution_count": null,
   "metadata": {},
   "outputs": [],
   "source": [
    "import re\n",
    "# Convert results to a DataFrame\n",
    "columns = ['case', 'class', 'P0', 'P1', 'P2']\n",
    "df = pd.DataFrame(results, columns=columns)\n",
    "\n",
    "# Extract numerical part from \"case\" column while keeping the file extension intact\n",
    "df['numeric_case'] = df['case'].apply(lambda x: int(re.search(r'\\d+', x).group()))\n",
    "\n",
    "# Sort DataFrame by the numerical \"case\" column\n",
    "df_sorted = df.sort_values(by='numeric_case', ascending=True)\n",
    "\n",
    "# Drop the 'numeric_case' column\n",
    "df_sorted.drop(columns=['numeric_case'], inplace=True)\n",
    "\n",
    "# Save sorted DataFrame to CSV\n",
    "df_sorted.to_csv('resnet152val_sorted.csv', index=False)"
   ]
  }
 ],
 "metadata": {
  "kernelspec": {
   "display_name": "pytorch_env",
   "language": "python",
   "name": "python3"
  },
  "language_info": {
   "codemirror_mode": {
    "name": "ipython",
    "version": 3
   },
   "file_extension": ".py",
   "mimetype": "text/x-python",
   "name": "python",
   "nbconvert_exporter": "python",
   "pygments_lexer": "ipython3",
   "version": "3.10.10"
  }
 },
 "nbformat": 4,
 "nbformat_minor": 2
}
